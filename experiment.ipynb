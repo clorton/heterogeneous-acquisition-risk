{
 "cells": [
  {
   "cell_type": "markdown",
   "id": "31b823fb",
   "metadata": {},
   "source": [
    "# Current Approach\n",
    "\n",
    "Given a population of susceptible individuals with heterogeneous acquisition risk, we calculate the running cumulative sum of the risk factors (inherently normalized to 1.0?) and then draw N samples from the range [0, total).\n",
    "\n",
    "For each sample, we find the index of the individual whose \"bucket\" in the running cumulative sum contains that sample.\n",
    "\n",
    "## Example\n",
    "\n",
    "Suppose we have the following individuals:\n",
    "\n",
    "|ID|relative risk|\n",
    "|--|-------------|\n",
    "|0 | 1.0         |\n",
    "|1 | 0.5         |\n",
    "|2 | 0.75        |\n",
    "|3 | 1.5         |\n",
    "|4 | 1.0         |\n",
    "|5 | 1.0         |\n",
    "|6 | 0.5         |\n",
    "|7 | 0.5         |\n",
    "|8 | 1.25        |\n",
    "|9 | 0.5         |\n",
    "|10| 0.75        |\n",
    "|11| 1.25        |\n",
    "|12| 1.25        |\n",
    "|13| 0.5         |\n",
    "|14| 0.75        |\n",
    "|15| 0.75        |\n",
    "\n",
    "Our running cumulative sum looks like this:\n",
    "\n",
    "[ 1.  ,  1.5 ,  2.25,  3.75,  4.75,  5.75,  6.25,  6.75,  8.  ,  8.5 ,  9.25, 10.5 , 11.75, 12.25, 13.  , 13.75]\n",
    "\n",
    "Geometrically it looks like this (55 1/4s):\n",
    "\n",
    "```text\n",
    "####XX###XXXXXX####XXXX##XX#####XX###XXXXX#####XX###XXX\n",
    "                                         1    1 1  1  1\n",
    "   1 1  2     3   4   5 6 6    8 8  9    0    1 2  3  3\n",
    "   . .  .     .   .   . . .    . .  .    .    . .  .  .\n",
    "   0 5  2     7   7   7 2 7    0 5  2    5    7 2  0  7\n",
    "   0 0  5     5   5   5 5 5    0 0  5    0    5 5  0  5\n",
    "```\n",
    "\n",
    "The buckets for agents 8, 11 and 12 with acquisition risk 1.25 take up proportionally more room than, say, the agents 1, 6, 7, 9, and 13 with acquisition risk 0.5.\n",
    "\n",
    "Each draw is then in the range [0, 13.75) and relatively more likely to land in one of the larger buckets than one of the smaller buckets."
   ]
  },
  {
   "cell_type": "code",
   "execution_count": null,
   "id": "a798a692",
   "metadata": {},
   "outputs": [
    {
     "name": "stdout",
     "output_type": "stream",
     "text": [
      "i=array([1.  , 0.5 , 0.75, 1.5 , 1.  , 1.  , 0.5 , 0.5 , 1.25, 0.5 , 0.75,\n",
      "       1.25, 1.25, 0.5 , 0.75, 0.75], dtype=float32)\n",
      "cs=array([ 1.  ,  1.5 ,  2.25,  3.75,  4.75,  5.75,  6.25,  6.75,  8.  ,\n",
      "        8.5 ,  9.25, 10.5 , 11.75, 12.25, 13.  , 13.75], dtype=float32)\n"
     ]
    }
   ],
   "source": [
    "import numpy as np\n",
    "\n",
    "# i = np.random.choice([0.5, 0.75, 1.0, 1.25, 1.5], 16)\n",
    "i = np.array(\n",
    "    [\n",
    "        1.0,\n",
    "        0.5,\n",
    "        0.75,\n",
    "        1.5,\n",
    "        1.0,\n",
    "        1.0,\n",
    "        0.5,\n",
    "        0.5,\n",
    "        1.25,\n",
    "        0.5,\n",
    "        0.75,\n",
    "        1.25,\n",
    "        1.25,\n",
    "        0.5,\n",
    "        0.75,\n",
    "        0.75,\n",
    "    ],\n",
    "    dtype=np.float32,\n",
    ")\n",
    "print(f\"{i=}\")\n",
    "cs = np.cumsum(i)\n",
    "print(f\"{cs=}\")\n"
   ]
  },
  {
   "cell_type": "markdown",
   "id": "687c004d",
   "metadata": {},
   "source": [
    "Let's generate 100k individuals with relative acquisition risks drawn from the set above.\n"
   ]
  },
  {
   "cell_type": "code",
   "execution_count": 2,
   "id": "adde9054",
   "metadata": {},
   "outputs": [
    {
     "name": "stdout",
     "output_type": "stream",
     "text": [
      "susceptible[0:32]=array([1.  , 0.75, 0.5 , 0.75, 1.  , 0.75, 1.25, 1.5 , 1.25, 1.25, 1.25,\n",
      "       1.25, 1.5 , 1.25, 1.25, 1.5 , 1.  , 0.75, 1.  , 1.25, 1.  , 0.5 ,\n",
      "       1.  , 1.5 , 1.5 , 0.75, 0.75, 0.75, 0.75, 0.5 , 0.75, 1.  ],\n",
      "      dtype=float32)\n",
      "susceptible[-32:]=array([1.5 , 1.5 , 1.  , 0.5 , 0.75, 1.5 , 1.25, 0.75, 1.25, 0.5 , 0.75,\n",
      "       1.  , 1.  , 1.5 , 0.5 , 0.75, 0.5 , 1.  , 0.5 , 1.5 , 1.5 , 1.  ,\n",
      "       1.  , 1.  , 1.5 , 1.  , 0.75, 0.5 , 1.5 , 0.75, 1.  , 0.75],\n",
      "      dtype=float32)\n"
     ]
    }
   ],
   "source": [
    "N = 10_000_000\n",
    "susceptible = np.random.choice([0.5, 0.75, 1.0, 1.25, 1.5], N).astype(np.float32)\n",
    "print(f\"{susceptible[0:32]=}\")\n",
    "print(f\"{susceptible[-32:]=}\")"
   ]
  },
  {
   "cell_type": "markdown",
   "id": "3d76a663",
   "metadata": {},
   "source": [
    "We calculate the running cumulative sum and draw a number of samples in the range of [0, total)."
   ]
  },
  {
   "cell_type": "code",
   "execution_count": null,
   "id": "ea29376e",
   "metadata": {},
   "outputs": [
    {
     "name": "stdout",
     "output_type": "stream",
     "text": [
      "cs[-1]=np.float64(10000555.25)\n",
      "samples[0:8]=array([4757576.35490862, 4420526.03760142, 7723188.58678963,\n",
      "       1121830.25965206, 7092905.52385103,  566271.81711219,\n",
      "        228423.0386507 , 8489233.4468211 ])\n",
      "samples[-8:]=array([5554425.98456857,  935401.89150327, 9392274.41204381,\n",
      "       7149668.64170929, 5138569.6539708 , 3981600.36000629,\n",
      "       4508758.17119442, 3460371.0758092 ])\n"
     ]
    }
   ],
   "source": [
    "cs = np.cumsum(susceptible.astype(np.float64))\n",
    "print(f\"{cs[-1]=}\")\n",
    "S = 1_000\n",
    "samples = np.random.random(size=S) * cs[-1]  # .astype(np.float32)\n",
    "print(f\"{samples[0:8]=}\")\n",
    "print(f\"{samples[-8:]=}\")"
   ]
  },
  {
   "cell_type": "markdown",
   "id": "39608ef4",
   "metadata": {},
   "source": [
    "Now, for each sample, we find the index of the \"bucket\" into which it falls."
   ]
  },
  {
   "cell_type": "code",
   "execution_count": null,
   "id": "b8e3b76b",
   "metadata": {},
   "outputs": [
    {
     "name": "stdout",
     "output_type": "stream",
     "text": [
      "first=np.int64(0)\n",
      "last=np.int64(9999999)\n",
      "len(indices)=1000\n",
      "len(np.unique(indices))=1000\n"
     ]
    }
   ],
   "source": [
    "first = np.searchsorted(cs, cs[0] / 2, side=\"right\")\n",
    "print(f\"{first=}\")\n",
    "last = np.searchsorted(cs, (cs[-2] + cs[-1]) / 2, side=\"right\")\n",
    "print(f\"{last=}\")\n",
    "indices = np.searchsorted(cs, samples, side=\"right\")\n",
    "print(f\"{len(indices)=}\")\n",
    "print(f\"{len(np.unique(indices))=}\")\n"
   ]
  },
  {
   "cell_type": "markdown",
   "id": "69938628",
   "metadata": {},
   "source": [
    "Let's see if the statistics seem right."
   ]
  },
  {
   "cell_type": "code",
   "execution_count": null,
   "id": "365149e5",
   "metadata": {},
   "outputs": [
    {
     "data": {
      "image/png": "[encoded data removed]",
      "text/plain": [
       "<Figure size 640x480 with 1 Axes>"
      ]
     },
     "metadata": {},
     "output_type": "display_data"
    }
   ],
   "source": [
    "import matplotlib.pyplot as plt\n",
    "\n",
    "unique_indices = np.unique(indices)\n",
    "weights = susceptible[unique_indices]\n",
    "\n",
    "bins = [0.25, 0.625, 0.875, 1.125, 1.375, 1.75]\n",
    "centers = [0.5, 0.75, 1.0, 1.25, 1.5]\n",
    "\n",
    "plt.hist(weights, bins=bins, rwidth=0.8)\n",
    "\n",
    "counts, _ = np.histogram(weights, bins=bins)\n",
    "ratio_to_third = counts / counts[2]\n",
    "\n",
    "for idx, (center, count, ratio) in enumerate(zip(centers, counts, ratio_to_third)):\n",
    "    plt.text(\n",
    "        center, count, f\"{ratio:.2f}\", ha=\"center\", va=\"bottom\", fontsize=9, color=\"red\"\n",
    "    )\n",
    "\n",
    "plt.xticks(centers)\n",
    "plt.xlabel(\"Weight\")\n",
    "plt.ylabel(\"Count\")\n",
    "plt.title(f\"Histogram of Weights for Sampled Unique Indices Serial Impl. ({S}/{N})\")\n",
    "plt.show()"
   ]
  },
  {
   "cell_type": "markdown",
   "id": "743bfe79",
   "metadata": {},
   "source": [
    "That's roughly right. Let's sample 10_000 times to get better(?) statistics."
   ]
  },
  {
   "cell_type": "code",
   "execution_count": null,
   "id": "8afd737e",
   "metadata": {},
   "outputs": [
    {
     "name": "stdout",
     "output_type": "stream",
     "text": [
      "dt=0.010509 s\n",
      "indices=array([   1367,    2869,    3851, ..., 9997466, 9997914, 9998519],\n",
      "      shape=(10000,), dtype=uint32)\n"
     ]
    },
    {
     "data": {
      "image/png": "[encoded data removed]",
      "text/plain": [
       "<Figure size 640x480 with 1 Axes>"
      ]
     },
     "metadata": {},
     "output_type": "display_data"
    }
   ],
   "source": [
    "from time import perf_counter_ns\n",
    "\n",
    "MS = 10_000\n",
    "indices = []\n",
    "t0 = perf_counter_ns()\n",
    "nuniq = 0\n",
    "while nuniq < MS:\n",
    "    nsample = MS - nuniq\n",
    "    samples = np.random.random(size=nsample) * cs[-1]  # .astype(np.float32)\n",
    "    newindices = np.searchsorted(cs, samples, side=\"right\")\n",
    "    indices = np.unique(np.concatenate((indices, newindices))).astype(np.uint32)\n",
    "    nuniq = len(indices)\n",
    "    # print(f\"{nuniq=}\")\n",
    "t1 = perf_counter_ns()\n",
    "dt = (t1 - t0) / 1e9\n",
    "print(f\"{dt=:.6f} s\")\n",
    "\n",
    "print(f\"{indices=}\")\n",
    "weights = susceptible[indices]\n",
    "\n",
    "bins = [0.25, 0.625, 0.875, 1.125, 1.375, 1.75]\n",
    "centers = [0.5, 0.75, 1.0, 1.25, 1.5]\n",
    "\n",
    "plt.hist(weights, bins=bins, rwidth=0.8)\n",
    "\n",
    "counts, _ = np.histogram(weights, bins=bins)\n",
    "ratio_to_third = counts / counts[2]\n",
    "\n",
    "for idx, (center, count, ratio) in enumerate(zip(centers, counts, ratio_to_third)):\n",
    "    plt.text(\n",
    "        center, count, f\"{ratio:.2f}\", ha=\"center\", va=\"bottom\", fontsize=9, color=\"red\"\n",
    "    )\n",
    "\n",
    "plt.xticks(centers)\n",
    "plt.xlabel(\"Weight\")\n",
    "plt.ylabel(\"Count\")\n",
    "plt.title(f\"Histogram of Weights for Sampled Unique Indices Serial Impl. ({MS}/{N})\")\n",
    "plt.show()"
   ]
  },
  {
   "cell_type": "markdown",
   "id": "c76e24f9",
   "metadata": {},
   "source": [
    "A little better."
   ]
  },
  {
   "cell_type": "markdown",
   "id": "e5cd7118",
   "metadata": {},
   "source": [
    "# Parallel Approach\n",
    "\n"
   ]
  },
  {
   "cell_type": "code",
   "execution_count": null,
   "id": "9525ef7e",
   "metadata": {},
   "outputs": [],
   "source": [
    "import numba as nb\n",
    "\n",
    "\n",
    "@nb.njit((nb.float32[:], nb.float32, nb.uint8[:]), nogil=True, parallel=True)\n",
    "def nb_sample(risk, rate, infected):\n",
    "    for i in nb.prange(len(risk)):\n",
    "        krate = risk[i] * rate\n",
    "        pinf = -np.expm1(-krate)\n",
    "        draw = np.random.random()\n",
    "        if draw < pinf:\n",
    "            infected[i] = 1\n",
    "\n",
    "    return\n"
   ]
  },
  {
   "cell_type": "code",
   "execution_count": null,
   "id": "b43178ef",
   "metadata": {},
   "outputs": [
    {
     "name": "stdout",
     "output_type": "stream",
     "text": [
      "dt=0.005864 s\n",
      "np.sum(infected)=np.uint64(9942)\n"
     ]
    },
    {
     "data": {
      "image/png": "[encoded data removed]",
      "text/plain": [
       "<Figure size 640x480 with 1 Axes>"
      ]
     },
     "metadata": {},
     "output_type": "display_data"
    }
   ],
   "source": [
    "# we already have risk (susceptible), let's make up a rate\n",
    "NINF = 10_000\n",
    "rate = 10_000 / len(susceptible)\n",
    "infected = np.zeros(len(susceptible), dtype=np.uint8)\n",
    "\n",
    "t0 = perf_counter_ns()\n",
    "nb_sample(susceptible, rate, infected)\n",
    "t1 = perf_counter_ns()\n",
    "dt = (t1 - t0) / 1e9\n",
    "print(f\"{dt=:.6f} s\")\n",
    "print(f\"{np.sum(infected)=}\")\n",
    "\n",
    "weights = susceptible[infected == 1]\n",
    "\n",
    "bins = [0.25, 0.625, 0.875, 1.125, 1.375, 1.75]\n",
    "centers = [0.5, 0.75, 1.0, 1.25, 1.5]\n",
    "\n",
    "plt.hist(weights, bins=bins, rwidth=0.8)\n",
    "\n",
    "counts, _ = np.histogram(weights, bins=bins)\n",
    "ratio_to_third = counts / counts[2]\n",
    "\n",
    "for idx, (center, count, ratio) in enumerate(zip(centers, counts, ratio_to_third)):\n",
    "    plt.text(\n",
    "        center, count, f\"{ratio:.2f}\", ha=\"center\", va=\"bottom\", fontsize=9, color=\"red\"\n",
    "    )\n",
    "\n",
    "plt.xticks(centers)\n",
    "plt.xlabel(\"Weight\")\n",
    "plt.ylabel(\"Count\")\n",
    "plt.title(f\"Histogram of Weights for Sampled Unique Indices Parall Impl. ({NINF}/{N})\")\n",
    "plt.show()"
   ]
  },
  {
   "cell_type": "markdown",
   "id": "a2fd56a5",
   "metadata": {},
   "source": [
    "Looks pretty good, IMO.\n",
    "\n",
    "Re. the total number of infections: With rate 10,000 / 10,000,000 = 0.001, p(inf) = 1 - e<sup>-0.001</sup> = 0.0009995002 so we might expect a little fewer than 10,000 new infections."
   ]
  },
  {
   "cell_type": "code",
   "execution_count": 35,
   "id": "531b63a9",
   "metadata": {},
   "outputs": [
    {
     "name": "stdout",
     "output_type": "stream",
     "text": [
      "Doing work |████████████████████████████████████████| 1024/1024 [100%] in 4.9s (\n",
      "np.round(sum/count)=np.float64(9997.0)\n"
     ]
    }
   ],
   "source": [
    "# from tqdm import tqdm\n",
    "from alive_progress import alive_bar\n",
    "from alive_progress import config_handler\n",
    "\n",
    "config_handler.set_global(force_tty=True)\n",
    "\n",
    "count = 1024\n",
    "sum = 0\n",
    "# for _ in tqdm(range(count)):\n",
    "with alive_bar(count, title=\"Doing work\") as bar:\n",
    "    for i in range(count):\n",
    "        inf = np.zeros(len(susceptible), dtype=np.uint8)\n",
    "        nb_sample(susceptible, rate, inf)\n",
    "        if count <= 10:\n",
    "            print(f\"{np.sum(inf)=}\")\n",
    "        sum += np.sum(inf)\n",
    "        bar()\n",
    "\n",
    "print(f\"{np.round(sum/count)=}\")\n"
   ]
  },
  {
   "cell_type": "markdown",
   "id": "b669a2fe",
   "metadata": {},
   "source": [
    "Let's try a Taichi implementation on the GPU."
   ]
  },
  {
   "cell_type": "code",
   "execution_count": null,
   "id": "1d066882",
   "metadata": {},
   "outputs": [
    {
     "name": "stdout",
     "output_type": "stream",
     "text": [
      "[Taichi] Starting on arch=metal\n"
     ]
    }
   ],
   "source": [
    "import taichi as ti\n",
    "\n",
    "ti.init(arch=ti.gpu, default_fp=ti.f32)\n",
    "\n",
    "risk_taichi = ti.field(dtype=ti.f32, shape=len(susceptible))\n",
    "infected_taichi = ti.field(dtype=ti.u8, shape=len(susceptible))\n",
    "\n",
    "\n",
    "@ti.func\n",
    "def expm1(x: ti.f32) -> ti.f32:  # type: ignore\n",
    "    retval = ti.f32(float(\"nan\"))\n",
    "\n",
    "    # tiny = 1.19209e-07 / 2.0    # float64 epsilon = 2.22045e-16\n",
    "    # if ti.abs(x) < tiny:        # tiny64 = 1.110225e-16\n",
    "    if ti.abs(x) < 5.96045e-8:\n",
    "        retval = x\n",
    "\n",
    "    elif ti.abs(x) <= 1e-5:\n",
    "        # 5th-order Taylor: x + x^2/2! + x^3/3! + x^4/4! + x^5/5!\n",
    "        # Horner form for fewer mults:\n",
    "        # x * (1 + x/2 * (1 + x/3 * (1 + x/4 * (1 + x/5))))\n",
    "        c5 = 1.0 / 5.0\n",
    "        c4 = 1.0 / 4.0\n",
    "        c3 = 1.0 / 3.0\n",
    "        c2 = 1.0 / 2.0\n",
    "\n",
    "        u = 1.0 + x * c5\n",
    "        u = 1.0 + x * c4 * u\n",
    "        u = 1.0 + x * c3 * u\n",
    "        u = 1.0 + x * c2 * u\n",
    "\n",
    "        retval = x * u\n",
    "\n",
    "    else:\n",
    "        # otherwise, just use exp\n",
    "        retval = ti.exp(x) - 1\n",
    "\n",
    "    return retval\n",
    "\n",
    "\n",
    "@ti.kernel\n",
    "def taichi_sample(risk: ti.template(), rate: ti.f32, infected: ti.template()):  # type: ignore\n",
    "    for i in range(risk.shape[0]):\n",
    "        krate = risk[i] * rate\n",
    "        pinf = -expm1(-krate)\n",
    "        draw = ti.random()\n",
    "        if draw < pinf:\n",
    "            infected[i] = ti.u8(1)\n",
    "    return\n"
   ]
  },
  {
   "cell_type": "code",
   "execution_count": 40,
   "id": "78100d4b",
   "metadata": {},
   "outputs": [
    {
     "name": "stdout",
     "output_type": "stream",
     "text": [
      "dt=0.001310 s\n",
      "np.sum(infected)=np.uint64(9875)\n"
     ]
    },
    {
     "data": {
      "image/png": "[encoded data removed]",
      "text/plain": [
       "<Figure size 640x480 with 1 Axes>"
      ]
     },
     "metadata": {},
     "output_type": "display_data"
    }
   ],
   "source": [
    "# Let's warm up Taichi with a small run\n",
    "risk_taichi.from_numpy(susceptible)\n",
    "infected_taichi.fill(0)\n",
    "taichi_sample(risk_taichi, rate, infected_taichi)\n",
    "\n",
    "risk_taichi.from_numpy(susceptible)\n",
    "infected_taichi.fill(0)\n",
    "ti.sync()\n",
    "\n",
    "t0 = perf_counter_ns()\n",
    "rate = NINF / len(susceptible)\n",
    "taichi_sample(risk_taichi, rate, infected_taichi)\n",
    "ti.sync()\n",
    "t1 = perf_counter_ns()\n",
    "dt = (t1 - t0) / 1e9\n",
    "print(f\"{dt=:.6f} s\")\n",
    "\n",
    "infected = infected_taichi.to_numpy()\n",
    "print(f\"{np.sum(infected)=}\")\n",
    "\n",
    "weights = susceptible[infected == 1]\n",
    "\n",
    "bins = [0.25, 0.625, 0.875, 1.125, 1.375, 1.75]\n",
    "centers = [0.5, 0.75, 1.0, 1.25, 1.5]\n",
    "\n",
    "plt.hist(weights, bins=bins, rwidth=0.8)\n",
    "\n",
    "counts, _ = np.histogram(weights, bins=bins)\n",
    "ratio_to_third = counts / counts[2]\n",
    "\n",
    "for idx, (center, count, ratio) in enumerate(zip(centers, counts, ratio_to_third)):\n",
    "    plt.text(\n",
    "        center, count, f\"{ratio:.2f}\", ha=\"center\", va=\"bottom\", fontsize=9, color=\"red\"\n",
    "    )\n",
    "\n",
    "plt.xticks(centers)\n",
    "plt.xlabel(\"Weight\")\n",
    "plt.ylabel(\"Count\")\n",
    "plt.title(f\"Histogram of Weights for Sampled Unique Indices GPU Impl. ({NINF}/{N})\")\n",
    "plt.show()"
   ]
  },
  {
   "cell_type": "code",
   "execution_count": 37,
   "id": "0a4237a1",
   "metadata": {},
   "outputs": [
    {
     "name": "stderr",
     "output_type": "stream",
     "text": [
      "100%|██████████| 1024/1024 [00:04<00:00, 247.60it/s]"
     ]
    },
    {
     "name": "stdout",
     "output_type": "stream",
     "text": [
      "np.round(sum/count)=np.float64(9990.0)\n"
     ]
    },
    {
     "name": "stderr",
     "output_type": "stream",
     "text": [
      "\n"
     ]
    }
   ],
   "source": [
    "from tqdm import tqdm\n",
    "\n",
    "count = 1024\n",
    "sum = 0\n",
    "for i in tqdm(range(count)):\n",
    "    infected_taichi.fill(0)\n",
    "    taichi_sample(risk_taichi, rate, infected_taichi)\n",
    "    cinf = np.sum(infected_taichi.to_numpy())\n",
    "    if count <= 10:\n",
    "        print(f\"{cinf=}\")\n",
    "    sum += cinf\n",
    "\n",
    "print(f\"{np.round(sum/count)=}\")\n"
   ]
  }
 ],
 "metadata": {
  "kernelspec": {
   "display_name": ".venv",
   "language": "python",
   "name": "python3"
  },
  "language_info": {
   "codemirror_mode": {
    "name": "ipython",
    "version": 3
   },
   "file_extension": ".py",
   "mimetype": "text/x-python",
   "name": "python",
   "nbconvert_exporter": "python",
   "pygments_lexer": "ipython3",
   "version": "3.13.1"
  }
 },
 "nbformat": 4,
 "nbformat_minor": 5
}
